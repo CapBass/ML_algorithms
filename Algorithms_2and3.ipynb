{
 "cells": [
  {
   "cell_type": "code",
   "execution_count": 2,
   "metadata": {},
   "outputs": [],
   "source": [
    "import numpy as np\n",
    "import matplotlib.pyplot as plt"
   ]
  },
  {
   "cell_type": "markdown",
   "metadata": {},
   "source": [
    "## Lesson 2"
   ]
  },
  {
   "cell_type": "code",
   "execution_count": 3,
   "metadata": {},
   "outputs": [],
   "source": [
    "X = np.array([[1, 1, 1, 1, 1, 1, 1, 1, 1, 1],\n",
    "              [1, 1, 2, 5, 3, 0, 5, 10, 1, 2],\n",
    "              [500, 700, 750, 600, 1450, 800, 1500, 2000, 450, 1000],\n",
    "              [1, 1, 2, 1, 2, 1, 3, 3, 1, 2]])"
   ]
  },
  {
   "cell_type": "code",
   "execution_count": 4,
   "metadata": {},
   "outputs": [],
   "source": [
    "y = [45, 55, 50, 55, 60, 35, 75, 80, 50, 60]"
   ]
  },
  {
   "cell_type": "code",
   "execution_count": 5,
   "metadata": {},
   "outputs": [],
   "source": [
    "def calc_std_fit(x):\n",
    "    res = (x - x.mean()) / x.std()\n",
    "    return res"
   ]
  },
  {
   "cell_type": "code",
   "execution_count": 8,
   "metadata": {},
   "outputs": [
    {
     "name": "stdout",
     "output_type": "stream",
     "text": [
      "3.0 2.8284271247461903\n"
     ]
    }
   ],
   "source": [
    "X_st = X.copy().astype(np.float64)\n",
    "X1_mean = X[1].mean()\n",
    "X1_std = X[1].std()\n",
    "print(X1_mean, X1_std)"
   ]
  },
  {
   "cell_type": "code",
   "execution_count": 9,
   "metadata": {},
   "outputs": [],
   "source": [
    "X_st[1] = (X[1] - X1_mean) / X1_std"
   ]
  },
  {
   "cell_type": "code",
   "execution_count": 10,
   "metadata": {},
   "outputs": [
    {
     "data": {
      "text/plain": [
       "array([[ 1.        ,  1.        ,  1.        ,  1.        ,  1.        ,\n",
       "         1.        ,  1.        ,  1.        ,  1.        ,  1.        ],\n",
       "       [-0.70710678, -0.70710678, -0.35355339,  0.70710678,  0.        ,\n",
       "        -1.06066017,  0.70710678,  2.47487373, -0.70710678, -0.35355339],\n",
       "       [-0.97958969, -0.56713087, -0.46401617, -0.77336028,  0.97958969,\n",
       "        -0.36090146,  1.08270439,  2.11385144, -1.08270439,  0.05155735],\n",
       "       [-0.89625816, -0.89625816,  0.38411064, -0.89625816,  0.38411064,\n",
       "        -0.89625816,  1.66447944,  1.66447944, -0.89625816,  0.38411064]])"
      ]
     },
     "execution_count": 10,
     "metadata": {},
     "output_type": "execute_result"
    }
   ],
   "source": [
    "X_st[2] = calc_std_fit(X[2])\n",
    "X_st[3] = calc_std_fit(X[3])\n",
    "X_st"
   ]
  },
  {
   "cell_type": "code",
   "execution_count": 11,
   "metadata": {},
   "outputs": [],
   "source": [
    "def calc_mse(y, y_pred):\n",
    "    err = np.mean((y - y_pred)**2)\n",
    "    return err"
   ]
  },
  {
   "cell_type": "code",
   "execution_count": 12,
   "metadata": {},
   "outputs": [],
   "source": [
    "def eval_model(X, y, iterations, alpha=1e-4):\n",
    "    W = np.random.randn(X.shape[0])\n",
    "    n = X.shape[1]\n",
    "    for i in range(1, iterations+1):\n",
    "        y_pred = np.dot(W, X)\n",
    "        err = calc_mse(y, y_pred)\n",
    "        W -= (alpha * (1/n * 2 * np.dot((y_pred - y), X.T)))\n",
    "        if i % (iterations / 10) == 0:\n",
    "            print(i, W, err)\n",
    "    return W"
   ]
  },
  {
   "cell_type": "code",
   "execution_count": 13,
   "metadata": {},
   "outputs": [],
   "source": [
    "def eval_model_reg2(X, y, iterations, alpha=1e-4, lambda_=1e-8):\n",
    "    np.random.seed(42)\n",
    "    W = np.random.randn(X.shape[0])\n",
    "    n = X.shape[1]\n",
    "    for i in range(1, iterations+1):\n",
    "        y_pred = np.dot(W, X)\n",
    "        err = calc_mse(y, y_pred)\n",
    "        W -= alpha * (1/n * 2 * np.dot((y_pred - y), X.T) + lambda_ * W) \n",
    "        #if i % (iterations / 10) == 0:\n",
    "        #    print(i, W, err)\n",
    "    return W"
   ]
  },
  {
   "cell_type": "markdown",
   "metadata": {},
   "source": [
    "1 Постройте график зависимости весов всех признаков от lambda в L2-регуляризации"
   ]
  },
  {
   "cell_type": "code",
   "execution_count": 14,
   "metadata": {},
   "outputs": [],
   "source": [
    "lambdas = np.arange(1e-2, 10, 1)\n",
    "weights = []\n",
    "n_feats = X_st.shape[0]\n",
    "alpha = 1e-2\n",
    "iterations = 5000\n",
    "\n",
    "for lambda_ in lambdas:\n",
    "    W = eval_model_reg2(X_st, y, iterations, alpha, lambda_)\n",
    "    weights.append(W)   "
   ]
  },
  {
   "cell_type": "code",
   "execution_count": 15,
   "metadata": {},
   "outputs": [
    {
     "data": {
      "image/png": "[encoded data removed]",
      "text/plain": [
       "<Figure size 432x288 with 1 Axes>"
      ]
     },
     "metadata": {
      "needs_background": "light"
     },
     "output_type": "display_data"
    }
   ],
   "source": [
    "plt.plot(lambdas, weights)\n",
    "plt.xlabel('lambda')\n",
    "plt.ylabel('weights')\n",
    "plt.show()"
   ]
  },
  {
   "cell_type": "markdown",
   "metadata": {},
   "source": [
    "С ростом лямбда веса признаков зануляются"
   ]
  },
  {
   "cell_type": "markdown",
   "metadata": {},
   "source": [
    "2 Можно ли к одному и тому же признаку применить сразу и нормализацию, и стандартизацию?"
   ]
  },
  {
   "cell_type": "code",
   "execution_count": 17,
   "metadata": {},
   "outputs": [],
   "source": [
    "def calc_std_normal_fit(x):\n",
    "    res = (x - x.min()) / (x.max() - x.min())\n",
    "    res = (res - res.mean()) / res.std()\n",
    "    return res"
   ]
  },
  {
   "cell_type": "code",
   "execution_count": 18,
   "metadata": {},
   "outputs": [
    {
     "data": {
      "text/plain": [
       "array([-0.89625816, -0.89625816,  0.38411064, -0.89625816,  0.38411064,\n",
       "       -0.89625816,  1.66447944,  1.66447944, -0.89625816,  0.38411064])"
      ]
     },
     "execution_count": 18,
     "metadata": {},
     "output_type": "execute_result"
    }
   ],
   "source": [
    "calc_std_normal_fit(X[3])"
   ]
  },
  {
   "cell_type": "code",
   "execution_count": 19,
   "metadata": {},
   "outputs": [
    {
     "data": {
      "text/plain": [
       "array([-0.89625816, -0.89625816,  0.38411064, -0.89625816,  0.38411064,\n",
       "       -0.89625816,  1.66447944,  1.66447944, -0.89625816,  0.38411064])"
      ]
     },
     "execution_count": 19,
     "metadata": {},
     "output_type": "execute_result"
    }
   ],
   "source": [
    "calc_std_fit(X[3])"
   ]
  },
  {
   "cell_type": "markdown",
   "metadata": {},
   "source": [
    "Применить одновременно стандартизацию и нормализацию на признак возможно, но это не приносит никакого результата"
   ]
  },
  {
   "cell_type": "markdown",
   "metadata": {},
   "source": [
    "3. Напишите функцию наподобие eval_model_reg2, но для применения L1-регуляризации"
   ]
  },
  {
   "cell_type": "code",
   "execution_count": 20,
   "metadata": {},
   "outputs": [],
   "source": [
    "def eval_model_reg1(X, y, iterations, alpha=1e-4, lambda_=1e-8):\n",
    "    np.random.seed(42)\n",
    "    W = np.random.randn(X.shape[0])\n",
    "    n = X.shape[1]\n",
    "    for i in range(1, iterations+1):\n",
    "        y_pred = np.dot(W, X)\n",
    "        err = calc_mse(y, y_pred)\n",
    "        W -= alpha * (1/n * 2 * np.dot((y_pred - y), X.T) + lambda_ * np.abs(W)) \n",
    "        if i % (iterations / 10) == 0:\n",
    "            print(i, W, err)\n",
    "    return W"
   ]
  },
  {
   "cell_type": "code",
   "execution_count": 22,
   "metadata": {},
   "outputs": [
    {
     "name": "stdout",
     "output_type": "stream",
     "text": [
      "500 [53.80821107  5.5542428   1.53275777  5.12255251] 32.85608337990543\n",
      "1000 [53.80952378  5.70466916  1.09946561  5.42237869] 32.590169320149954\n",
      "1500 [53.80952381  5.72532529  1.00880579  5.49542037] 32.54458858091259\n",
      "2000 [53.80952381  5.72945349  0.98915653  5.51158342] 32.53510519436449\n",
      "2500 [53.80952381  5.73034197  0.9848759   5.51511491] 32.53305784819005\n",
      "3000 [53.80952381  5.73053533  0.98394268  5.51588513] 32.53261238131542\n",
      "3500 [53.80952381  5.73057748  0.9837392   5.51605308] 32.532515295901064\n",
      "4000 [53.80952381  5.73058667  0.98369484  5.5160897 ] 32.53249412964209\n",
      "4500 [53.80952381  5.73058868  0.98368517  5.51609768] 32.5324895146959\n",
      "5000 [53.80952381  5.73058911  0.98368306  5.51609942] 32.532488508468425\n"
     ]
    },
    {
     "data": {
      "text/plain": [
       "array([53.80952381,  5.73058911,  0.98368306,  5.51609942])"
      ]
     },
     "execution_count": 22,
     "metadata": {},
     "output_type": "execute_result"
    }
   ],
   "source": [
    "eval_model_reg1(X_st, y, iterations=5000, alpha=1e-2, lambda_=1e-1)"
   ]
  },
  {
   "cell_type": "markdown",
   "metadata": {},
   "source": [
    "## Lesson 3"
   ]
  },
  {
   "cell_type": "code",
   "execution_count": 23,
   "metadata": {},
   "outputs": [],
   "source": [
    "X = np.array([[1, 1, 1, 1, 1, 1, 1, 1, 1, 1],\n",
    "              [1, 1, 2, 5, 3, 0, 5, 10, 1, 2],\n",
    "              [500, 700, 750, 600, 1450, 800, 1500, 2000, 450, 1000],\n",
    "              [1, 1, 2, 1, 2,  1, 3, 3, 1, 2]], dtype = np.float64)\n",
    "y = np.array([0, 0, 1, 0, 1, 0, 1, 0, 1, 1], dtype = np.float64)"
   ]
  },
  {
   "cell_type": "code",
   "execution_count": 25,
   "metadata": {},
   "outputs": [],
   "source": [
    "X_st = X.copy()\n",
    "X_st[2, :] = calc_std_fit(X[2, :])"
   ]
  },
  {
   "cell_type": "markdown",
   "metadata": {},
   "source": [
    "1. Измените функцию calc_logloss так, чтобы нули по возможности не попадали в np.log"
   ]
  },
  {
   "cell_type": "code",
   "execution_count": 28,
   "metadata": {},
   "outputs": [],
   "source": [
    "def calc_logloss(y, y_pred):\n",
    "    y_pred = np.where(y_pred == 0, 1e-8, y_pred)\n",
    "    err = - np.mean(y * np.log(y_pred) + (1.0 - y) * np.log(1.0 - y_pred))\n",
    "    err = np.sum(err)\n",
    "    return err"
   ]
  },
  {
   "cell_type": "code",
   "execution_count": 30,
   "metadata": {},
   "outputs": [],
   "source": [
    "def eval_model(X, y, iterations, alpha=1e-4):\n",
    "    np.random.seed(42)\n",
    "    W = np.random.randn(X.shape[0])\n",
    "    n = X.shape[1]\n",
    "    for i in range(1, iterations+1):\n",
    "        z = np.dot(W, X)\n",
    "        y_pred = sigmoid(z)\n",
    "        err = calc_logloss(y, y_pred)\n",
    "        W -= alpha * (1/n * np.dot((y_pred - y), X.T))\n",
    "        if i % (iterations / 10) == 0:\n",
    "            print(i, W, err)\n",
    "    return W"
   ]
  },
  {
   "cell_type": "markdown",
   "metadata": {},
   "source": [
    "2. Подберите аргументы функции eval_model для логистической регрессии таким образом, чтобы log loss был минимальным."
   ]
  },
  {
   "cell_type": "code",
   "execution_count": 31,
   "metadata": {},
   "outputs": [
    {
     "name": "stdout",
     "output_type": "stream",
     "text": [
      "600 [-31.0064962   -3.18339431  -8.30035052  25.57077581] 0.12157711198678005\n",
      "1200 [-35.21713162  -3.55898729  -9.49134137  28.96408929] 0.11071772357943785\n",
      "1800 [-38.69065134  -3.86734498 -10.47133616  31.75574131] 0.10328297287474317\n",
      "2400 [-41.71423822  -4.13150001 -11.32672884  34.17464742] 0.09767307556278651\n",
      "3000 [-44.42223999  -4.36374024 -12.09600577  36.33070213] 0.09319031251274155\n",
      "3600 [-46.89755542  -4.57172756 -12.80265499  38.29177891] 0.0894584409785453\n",
      "4200 [-49.19471373  -4.76056186 -13.46197311  40.10260553] 0.08625572280851902\n",
      "4800 [-51.35134301  -4.93382166 -14.0844055   41.79414893] 0.08344247085885012\n",
      "5400 [-53.39437873  -5.09413268 -14.67733855  43.38869532] 0.08092603303060693\n",
      "6000 [-55.34365941  -5.2434977  -15.24613231  44.90278859] 0.07864239793377792\n"
     ]
    }
   ],
   "source": [
    "W = eval_model(X_st, y, iterations=6000, alpha=4.7)"
   ]
  },
  {
   "cell_type": "markdown",
   "metadata": {},
   "source": [
    "Создайте функцию calc_pred_proba, возвращающую предсказанную вероятность класса 1"
   ]
  },
  {
   "cell_type": "code",
   "execution_count": 32,
   "metadata": {},
   "outputs": [],
   "source": [
    "def calc_pred_proba(W, X):\n",
    "    y_pred_proba = 1 / (1 + np.exp(-np.dot(W, X)))\n",
    "    return y_pred_proba\n"
   ]
  },
  {
   "cell_type": "code",
   "execution_count": 33,
   "metadata": {},
   "outputs": [
    {
     "data": {
      "text/plain": [
       "array([3.20948890e-01, 8.77271658e-04, 1.00000000e+00, 1.58538910e-11,\n",
       "       9.78043065e-01, 7.11422488e-03, 1.00000000e+00, 4.97506518e-03,\n",
       "       6.94806188e-01, 1.00000000e+00])"
      ]
     },
     "execution_count": 33,
     "metadata": {},
     "output_type": "execute_result"
    }
   ],
   "source": [
    "y_pred_proba = calc_pred_proba(W, X_st)\n",
    "y_pred_proba"
   ]
  },
  {
   "cell_type": "markdown",
   "metadata": {},
   "source": [
    "Создайте функцию calc_pred, возвращающую предсказанный класс (на вход подаются W, который уже посчитан функцией eval_model и X, на выходе - массив y_pred"
   ]
  },
  {
   "cell_type": "code",
   "execution_count": 34,
   "metadata": {},
   "outputs": [],
   "source": [
    "def calc_pred(W, X):\n",
    "    y_pred_proba = calc_pred_proba(W, X)\n",
    "    y_pred = np.where(y_pred_proba < 0.5, 0, 1) # Порог\n",
    "    return y_pred"
   ]
  },
  {
   "cell_type": "code",
   "execution_count": 35,
   "metadata": {},
   "outputs": [
    {
     "data": {
      "text/plain": [
       "array([0, 0, 1, 0, 1, 0, 1, 0, 1, 1])"
      ]
     },
     "execution_count": 35,
     "metadata": {},
     "output_type": "execute_result"
    }
   ],
   "source": [
    "y_pred = calc_pred(W, X_st)\n",
    "y_pred"
   ]
  },
  {
   "cell_type": "markdown",
   "metadata": {},
   "source": [
    "5. Посчитайте Accuracy, матрицу ошибок, точность и полноту, а также F1 score."
   ]
  },
  {
   "cell_type": "code",
   "execution_count": 37,
   "metadata": {},
   "outputs": [],
   "source": [
    "def confusion_matrix(y, y_pred):\n",
    "    TP = 0\n",
    "    FP = 0\n",
    "    FN = 0\n",
    "    TN = 0\n",
    "    for i in range(y.shape[0]):\n",
    "        if y[i] == 1 and y_pred[i] == 1:\n",
    "            TP += 1\n",
    "        elif y[i] == 1 and y_pred[i] == 0:\n",
    "            FN += 1\n",
    "        elif y[i] == 0 and y_pred[i] == 1:\n",
    "            FP += 1\n",
    "        else:\n",
    "            TN += 1\n",
    "    return TP, FP, FN, TN "
   ]
  },
  {
   "cell_type": "code",
   "execution_count": 38,
   "metadata": {},
   "outputs": [
    {
     "data": {
      "text/plain": [
       "(5, 0, 0, 5)"
      ]
     },
     "execution_count": 38,
     "metadata": {},
     "output_type": "execute_result"
    }
   ],
   "source": [
    "TP, FP, FN, TN = confusion_matrix(y, y_pred)\n",
    "TP, FP, FN, TN"
   ]
  },
  {
   "cell_type": "code",
   "execution_count": 39,
   "metadata": {},
   "outputs": [],
   "source": [
    "def accuracy(TP, FP, FN, TN):\n",
    "    return (TP + TN) / (TP + FP + FN + TN)\n",
    "\n",
    "def precision(TP, FP):\n",
    "    return TP / (TP + FP)\n",
    "\n",
    "def recall(TP, FN):\n",
    "    return TP / (TP + FN)\n",
    "\n",
    "def f2_score(TP, FP, FN):\n",
    "    precision = TP / (TP + FP)\n",
    "    recall = TP / (TP + FN)\n",
    "    return (2 * precision * recall) / (precision + recall)"
   ]
  },
  {
   "cell_type": "code",
   "execution_count": 42,
   "metadata": {},
   "outputs": [
    {
     "name": "stdout",
     "output_type": "stream",
     "text": [
      "accuracy = 1.0,\n",
      "precision = 1.0,\n",
      "recall = 1.0,\n",
      "f2_score = 1.0\n"
     ]
    }
   ],
   "source": [
    "print(f'''accuracy = {accuracy(TP, FP, FN, TN)},\n",
    "precision = {precision(TP, FP)},\n",
    "recall = {recall(TP, FN)},\n",
    "f2_score = {f2_score(TP, FP, FN)}''')"
   ]
  },
  {
   "cell_type": "markdown",
   "metadata": {},
   "source": [
    "Имеется переобучение так как модель подстроилась под обучающую выборку. Все показатели оценки модели равна 100%"
   ]
  },
  {
   "cell_type": "markdown",
   "metadata": {},
   "source": [
    "7. Создайте функции eval_model_l1 и eval_model_l2 с применением L1 и L2 регуляризаций соответственно."
   ]
  },
  {
   "cell_type": "code",
   "execution_count": 47,
   "metadata": {},
   "outputs": [],
   "source": [
    "def eval_model_reg2(X, y, iterations, alpha=1e-4, lambda_=1e-2):\n",
    "    np.random.seed(42)\n",
    "    W = np.random.randn(X.shape[0])\n",
    "    n = X.shape[1]\n",
    "    for i in range(1, iterations+1):\n",
    "        z = np.dot(W, X)\n",
    "        y_pred = sigmoid(z)\n",
    "        err = calc_logloss(y, y_pred)\n",
    "        W -= alpha * (1/n * np.dot((y_pred - y), X.T) + lambda_ * W**2)\n",
    "        if i % (iterations / 10) == 0:\n",
    "            print(i, W, err)\n",
    "    return W"
   ]
  },
  {
   "cell_type": "code",
   "execution_count": 48,
   "metadata": {},
   "outputs": [],
   "source": [
    "def eval_model_reg1(X, y, iterations, alpha=1e-4, lambda_=1e-2):\n",
    "    np.random.seed(42)\n",
    "    W = np.random.randn(X.shape[0])\n",
    "    n = X.shape[1]\n",
    "    for i in range(1, iterations+1):\n",
    "        z = np.dot(W, X)\n",
    "        y_pred = sigmoid(z)\n",
    "        err = calc_logloss(y, y_pred)\n",
    "        W -= alpha * (1/n * np.dot((y_pred - y), X.T) + lambda_ * np.abs(W))\n",
    "        if i % (iterations / 10) == 0:\n",
    "            print(i, W, err)\n",
    "    return W"
   ]
  },
  {
   "cell_type": "code",
   "execution_count": 55,
   "metadata": {},
   "outputs": [
    {
     "name": "stdout",
     "output_type": "stream",
     "text": [
      "500 [ 0.04336177 -0.70630382  0.83061356  1.29265719] 0.4929420479573742\n",
      "1000 [-0.15418119 -0.72505978  0.89912268  1.40046976] 0.4797773967260534\n",
      "1500 [-0.31966101 -0.7478229   0.90866214  1.52078173] 0.4699735796890773\n",
      "2000 [-0.4766838  -0.76605669  0.89398508  1.63511842] 0.4614014083903252\n",
      "2500 [-0.63090915 -0.77924734  0.86625369  1.74137068] 0.45359987382338407\n",
      "3000 [-0.78372464 -0.78832188  0.83015463  1.84073361] 0.44635373411546625\n",
      "3500 [-0.93547136 -0.79426692  0.78825736  1.93472918] 0.439537665272863\n",
      "4000 [-1.08622935 -0.79788383  0.74223502  2.02463175] 0.4330734044497408\n",
      "4500 [-1.23601345 -0.79978568  0.6932726   2.11142244] 0.42690979613625946\n",
      "5000 [-1.38482363 -0.80043499  0.64224101  2.19584165] 0.4210119599058861\n"
     ]
    }
   ],
   "source": [
    "W1 = eval_model_reg1(X_st, y, 5000, alpha=1e-2)"
   ]
  },
  {
   "cell_type": "code",
   "execution_count": 57,
   "metadata": {},
   "outputs": [
    {
     "name": "stdout",
     "output_type": "stream",
     "text": [
      "500 [ 0.05299544 -0.70175225  0.83623892  1.27725289] 0.4936474099935915\n",
      "1000 [-0.13557702 -0.71678981  0.90397803  1.37253144] 0.4813875173855579\n",
      "1500 [-0.28466294 -0.73526049  0.91267439  1.47583411] 0.4726932252558685\n",
      "2000 [-0.42033354 -0.74841027  0.89875734  1.56867344] 0.46541019665662897\n",
      "2500 [-0.54954937 -0.75601807  0.87334643  1.65017201] 0.4590333999803763\n",
      "3000 [-0.6748411  -0.75924093  0.84082802  1.72261656] 0.453295720930366\n",
      "3500 [-0.7976655  -0.75918183  0.80340951  1.78837511] 0.44802514965473367\n",
      "4000 [-0.91919092 -0.75667388  0.76236068  1.84938488] 0.44310335940337797\n",
      "4500 [-1.04050201 -0.75230479  0.71842771  1.90717042] 0.43844511275881237\n",
      "5000 [-1.1626725  -0.74647324  0.67201177  1.96294536] 0.4339866683338265\n"
     ]
    }
   ],
   "source": [
    "W2 = eval_model_reg2(X_st, y, 5000, alpha=1e-2)"
   ]
  },
  {
   "cell_type": "code",
   "execution_count": 61,
   "metadata": {},
   "outputs": [
    {
     "data": {
      "text/plain": [
       "array([0, 0, 1, 0, 1, 1, 1, 0, 0, 1])"
      ]
     },
     "execution_count": 61,
     "metadata": {},
     "output_type": "execute_result"
    }
   ],
   "source": [
    "y_pred = calc_pred(W2, X_st)\n",
    "y_pred"
   ]
  },
  {
   "cell_type": "code",
   "execution_count": 62,
   "metadata": {},
   "outputs": [
    {
     "name": "stdout",
     "output_type": "stream",
     "text": [
      "accuracy = 0.8,\n",
      "precision = 0.8,\n",
      "recall = 0.8,\n",
      "f2_score = 0.8000000000000002\n"
     ]
    }
   ],
   "source": [
    "TP, FP, FN, TN = confusion_matrix(y, y_pred)\n",
    "print(f'''accuracy = {accuracy(TP, FP, FN, TN)},\n",
    "precision = {precision(TP, FP)},\n",
    "recall = {recall(TP, FN)},\n",
    "f2_score = {f2_score(TP, FP, FN)}''')"
   ]
  }
 ],
 "metadata": {
  "kernelspec": {
   "display_name": "Python 3",
   "language": "python",
   "name": "python3"
  },
  "language_info": {
   "codemirror_mode": {
    "name": "ipython",
    "version": 3
   },
   "file_extension": ".py",
   "mimetype": "text/x-python",
   "name": "python",
   "nbconvert_exporter": "python",
   "pygments_lexer": "ipython3",
   "version": "3.7.3"
  }
 },
 "nbformat": 4,
 "nbformat_minor": 2
}
